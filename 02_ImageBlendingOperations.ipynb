{
 "cells": [
  {
   "cell_type": "markdown",
   "metadata": {},
   "source": [
    "*This notebook is a part of a series, [Learning image manipulation in Python](#find), that covers the basics of working with images in [OpenCV](https://docs.opencv.org/), [Matplotlib](https://matplotlib.org/users/index.html) and [Numpy](https://numpy.org/doc/).*\n",
    "\n",
    "# Blending images using Numpy operations\n",
    "\n",
    "This notebooks covers the basics of blending images using simply operation in NumPy. These techniques can mimic many of the blending modes found in photo editing software like Adobe Photoshop. For more information about blending see [Blend modes](https://en.wikipedia.org/wiki/Blend_modes) article in Wikipedia."
   ]
  },
  {
   "cell_type": "code",
   "execution_count": 5,
   "metadata": {},
   "outputs": [
    {
     "data": {
      "image/png": "[encoded data removed]",
      "text/plain": [
       "<Figure size 432x288 with 1 Axes>"
      ]
     },
     "metadata": {
      "needs_background": "light"
     },
     "output_type": "display_data"
    }
   ],
   "source": [
    "from matplotlib import pyplot as plt\n",
    "import cv2\n",
    "\n",
    "# Convenience function for displaying images\n",
    "def showImage( image, title=\"\" ):\n",
    "    plt.imshow(image)\n",
    "    plt.axis('off')\n",
    "    plt.title(title)\n",
    "    plt.show()\n",
    "\n",
    "# Load and convert image to RGB in a single line\n",
    "image = cv2.cvtColor(cv2.imread(\"images/rgb.jpg\"), cv2.COLOR_BGR2RGB)\n",
    "showImage( image, title='%d high by %d wide, %d channels' % image.shape )"
   ]
  },
  {
   "cell_type": "markdown",
   "metadata": {},
   "source": [
    "## Darken (minimum)"
   ]
  },
  {
   "cell_type": "code",
   "execution_count": null,
   "metadata": {},
   "outputs": [],
   "source": [
    "def darken(top, bottom):\n",
    "    return np.minimum(top, bottom)\n",
    "\n",
    "showImage(darken(top, bottom))"
   ]
  },
  {
   "cell_type": "markdown",
   "metadata": {},
   "source": [
    "## Multiply"
   ]
  },
  {
   "cell_type": "code",
   "execution_count": null,
   "metadata": {},
   "outputs": [],
   "source": [
    "def multiply(top, bottom):\n",
    "    return top * bottom\n",
    "\n",
    "showImage(multiply(top, bottom))"
   ]
  },
  {
   "cell_type": "markdown",
   "metadata": {},
   "source": [
    "## Color burn"
   ]
  },
  {
   "cell_type": "code",
   "execution_count": null,
   "metadata": {},
   "outputs": [],
   "source": [
    "def colorBurn(top, bottom):\n",
    "    result = 1 - ((1 - bottom) / top)\n",
    "    return np.clip(result, 0, 1)\n",
    "\n",
    "showImage(colorBurn(top, bottom))"
   ]
  },
  {
   "cell_type": "markdown",
   "metadata": {},
   "source": [
    "## Linear burn"
   ]
  },
  {
   "cell_type": "code",
   "execution_count": null,
   "metadata": {},
   "outputs": [],
   "source": [
    "def linearBurn(top, bottom):\n",
    "    result = top + bottom - 1\n",
    "    return np.clip(result, 0, 1)\n",
    "\n",
    "showImage(linearBurn(top, bottom))"
   ]
  },
  {
   "cell_type": "markdown",
   "metadata": {},
   "source": [
    "## Lighten (max)"
   ]
  },
  {
   "cell_type": "code",
   "execution_count": 3,
   "metadata": {},
   "outputs": [
    {
     "ename": "NameError",
     "evalue": "name 'top' is not defined",
     "output_type": "error",
     "traceback": [
      "\u001b[0;31m---------------------------------------------------------------------------\u001b[0m",
      "\u001b[0;31mNameError\u001b[0m                                 Traceback (most recent call last)",
      "\u001b[0;32m<ipython-input-3-6e6f46afe766>\u001b[0m in \u001b[0;36m<module>\u001b[0;34m()\u001b[0m\n\u001b[1;32m      2\u001b[0m     \u001b[0;32mreturn\u001b[0m \u001b[0mnp\u001b[0m\u001b[0;34m.\u001b[0m\u001b[0mmaximum\u001b[0m\u001b[0;34m(\u001b[0m\u001b[0mtop\u001b[0m\u001b[0;34m,\u001b[0m \u001b[0mbottom\u001b[0m\u001b[0;34m)\u001b[0m\u001b[0;34m\u001b[0m\u001b[0m\n\u001b[1;32m      3\u001b[0m \u001b[0;34m\u001b[0m\u001b[0m\n\u001b[0;32m----> 4\u001b[0;31m \u001b[0mshowImage\u001b[0m\u001b[0;34m(\u001b[0m\u001b[0mlighten\u001b[0m\u001b[0;34m(\u001b[0m\u001b[0mtop\u001b[0m\u001b[0;34m,\u001b[0m \u001b[0mbottom\u001b[0m\u001b[0;34m)\u001b[0m\u001b[0;34m)\u001b[0m\u001b[0;34m\u001b[0m\u001b[0m\n\u001b[0m",
      "\u001b[0;31mNameError\u001b[0m: name 'top' is not defined"
     ]
    }
   ],
   "source": [
    "def lighten(top, bottom):\n",
    "    return np.maximum(top, bottom)\n",
    "\n",
    "showImage(lighten(top, bottom))"
   ]
  },
  {
   "cell_type": "markdown",
   "metadata": {},
   "source": [
    "## Screen"
   ]
  },
  {
   "cell_type": "code",
   "execution_count": null,
   "metadata": {},
   "outputs": [],
   "source": [
    "def screen(top, bottom):\n",
    "    result = 1 - (1 - top) * (1 - bottom)\n",
    "    return np.clip(result, 0, 1)\n",
    "\n",
    "showImage(screen(top, bottom))"
   ]
  },
  {
   "cell_type": "markdown",
   "metadata": {},
   "source": [
    "## Color dodge"
   ]
  },
  {
   "cell_type": "code",
   "execution_count": null,
   "metadata": {},
   "outputs": [],
   "source": [
    "def colorDodge(top, bottom):\n",
    "    result = bottom / (1 - top)\n",
    "    return np.clip(result, 0, 1)\n",
    "\n",
    "showImage(colorDodge(top, bottom))"
   ]
  },
  {
   "cell_type": "markdown",
   "metadata": {},
   "source": [
    "## Add (linear dodge)"
   ]
  },
  {
   "cell_type": "code",
   "execution_count": null,
   "metadata": {},
   "outputs": [],
   "source": [
    "def linearDodge(top, bottom):\n",
    "    result = top + bottom\n",
    "    return np.clip(result, 0, 1)\n",
    "\n",
    "showImage(linearDodge(top, bottom))"
   ]
  },
  {
   "cell_type": "markdown",
   "metadata": {},
   "source": [
    "## Overlay\n",
    "\n",
    "The overlay blend mode lightens the output if the bottom layer is light (>= 0.5) and darkens when the bottom layer is dark (< 0.5)."
   ]
  },
  {
   "cell_type": "code",
   "execution_count": null,
   "metadata": {},
   "outputs": [],
   "source": [
    "def overlay(top, bottom):\n",
    "    return np.where(bottom < 0.5, 2 * top * bottom, 1 - (1 - top) * (1 - bottom) )\n",
    "\n",
    "showImage(overlay(top, bottom))"
   ]
  },
  {
   "cell_type": "markdown",
   "metadata": {},
   "source": [
    "## Soft light"
   ]
  },
  {
   "cell_type": "code",
   "execution_count": null,
   "metadata": {},
   "outputs": [],
   "source": [
    "def softLight(top, bottom):\n",
    "    return (1 - 2 * top) * pow(bottom, 2) + 2 * top * bottom\n",
    "\n",
    "showImage(softLight(top, bottom))"
   ]
  },
  {
   "cell_type": "markdown",
   "metadata": {},
   "source": [
    "## Hard light\n",
    "\n",
    "The hard light blend mode works similarly to the **overlay** blend mode, looking at the top layer to decide whether to darken or lighten. It lightens the output if the top layer is lighter and darkens when the top layer is dark."
   ]
  },
  {
   "cell_type": "code",
   "execution_count": null,
   "metadata": {},
   "outputs": [],
   "source": [
    "def hardLight(top, bottom):\n",
    "    return np.where(top < 0.5, 2 * top * bottom, 1 - (1 - top) * (1 - bottom) )\n",
    "\n",
    "showImage(hardLight2(top, bottom))"
   ]
  },
  {
   "cell_type": "markdown",
   "metadata": {},
   "source": [
    "## Difference\n",
    "\n",
    "Take the absolute difference of the two images"
   ]
  },
  {
   "cell_type": "code",
   "execution_count": null,
   "metadata": {},
   "outputs": [],
   "source": [
    "def difference(top, bottom):\n",
    "    return abs(top - bottom)\n",
    "\n",
    "showImage(difference(top, bottom))"
   ]
  },
  {
   "cell_type": "markdown",
   "metadata": {},
   "source": [
    "## Subtract\n",
    "\n",
    "Take the difference of the two images mapping values below zero to black."
   ]
  },
  {
   "cell_type": "code",
   "execution_count": null,
   "metadata": {},
   "outputs": [],
   "source": [
    "def subtract(top, bottom):\n",
    "    result = top - bottom\n",
    "    return np.clip(result, 0, 1)\n",
    "\n",
    "showImage(subtract(top, bottom))"
   ]
  }
 ],
 "metadata": {
  "kernelspec": {
   "display_name": "Python 3",
   "language": "python",
   "name": "python3"
  },
  "language_info": {
   "codemirror_mode": {
    "name": "ipython",
    "version": 3
   },
   "file_extension": ".py",
   "mimetype": "text/x-python",
   "name": "python",
   "nbconvert_exporter": "python",
   "pygments_lexer": "ipython3",
   "version": "3.5.4"
  }
 },
 "nbformat": 4,
 "nbformat_minor": 2
}
